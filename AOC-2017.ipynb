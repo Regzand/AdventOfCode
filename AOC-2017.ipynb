{
 "cells": [
  {
   "cell_type": "code",
   "execution_count": 1,
   "metadata": {
    "collapsed": true
   },
   "outputs": [],
   "source": [
    "import operator\n",
    "import math\n",
    "import numpy as np\n",
    "import io\n",
    "from itertools import combinations, permutations, islice, product, count\n",
    "from functools import reduce\n",
    "from collections import defaultdict, namedtuple\n",
    "from operator import methodcaller"
   ]
  },
  {
   "cell_type": "code",
   "execution_count": 2,
   "metadata": {
    "collapsed": true
   },
   "outputs": [],
   "source": [
    "def get_input(day, year = 2017, type = 'in'):\n",
    "    return open(\"data/{}/{}.{}\".format(year, day, type))"
   ]
  },
  {
   "cell_type": "markdown",
   "metadata": {},
   "source": [
    "<center><h1><a href='https://adventofcode.com/2017/day/1'>Day 1: Inverse Captcha</a></h1></center>"
   ]
  },
  {
   "cell_type": "markdown",
   "metadata": {},
   "source": [
    "### Part One:"
   ]
  },
  {
   "cell_type": "code",
   "execution_count": 3,
   "metadata": {
    "collapsed": true
   },
   "outputs": [],
   "source": [
    "def day_1_1(numbers):\n",
    "    numbers_size = len(numbers)\n",
    "    return sum([numbers[i] for i in range(numbers_size) if numbers[i] == numbers[(i+1)%numbers_size]])"
   ]
  },
  {
   "cell_type": "markdown",
   "metadata": {},
   "source": [
    "### Part Two:"
   ]
  },
  {
   "cell_type": "code",
   "execution_count": 4,
   "metadata": {
    "collapsed": true
   },
   "outputs": [],
   "source": [
    "def day_1_2(numbers):\n",
    "    numbers_size = len(numbers)\n",
    "    return sum([numbers[i] for i in range(numbers_size) if numbers[i] == numbers[(i+numbers_size//2)%numbers_size]])"
   ]
  },
  {
   "cell_type": "markdown",
   "metadata": {},
   "source": [
    "### Results:"
   ]
  },
  {
   "cell_type": "code",
   "execution_count": 5,
   "metadata": {
    "scrolled": true
   },
   "outputs": [
    {
     "name": "stdout",
     "output_type": "stream",
     "text": [
      "Part One:  1047\n",
      "Part Two:  982\n"
     ]
    }
   ],
   "source": [
    "numbers = list(map(int, list(''.join(get_input(1).readline().split()))))\n",
    "\n",
    "print('Part One: ', day_1_1(numbers))\n",
    "print('Part Two: ', day_1_2(numbers))"
   ]
  },
  {
   "cell_type": "markdown",
   "metadata": {},
   "source": [
    "<center><h1><a href='https://adventofcode.com/2017/day/2'>Day 2: Corruption Checksum</a></h1></center>"
   ]
  },
  {
   "cell_type": "markdown",
   "metadata": {},
   "source": [
    "### Part One:"
   ]
  },
  {
   "cell_type": "code",
   "execution_count": 6,
   "metadata": {
    "collapsed": true
   },
   "outputs": [],
   "source": [
    "def day_2_1(spreedsheet):\n",
    "    return sum([max(row) - min(row) for row in spreedsheet])"
   ]
  },
  {
   "cell_type": "markdown",
   "metadata": {},
   "source": [
    "### Part Two:"
   ]
  },
  {
   "cell_type": "code",
   "execution_count": 7,
   "metadata": {
    "collapsed": true
   },
   "outputs": [],
   "source": [
    "def day_2_2(spreedsheet):\n",
    "    return sum([a//b for row in spreedsheet for a,b in permutations(row, 2) if a%b == 0])"
   ]
  },
  {
   "cell_type": "markdown",
   "metadata": {},
   "source": [
    "### Results:"
   ]
  },
  {
   "cell_type": "code",
   "execution_count": 8,
   "metadata": {
    "scrolled": true
   },
   "outputs": [
    {
     "name": "stdout",
     "output_type": "stream",
     "text": [
      "Part One:  34581\n",
      "Part Two:  214\n"
     ]
    }
   ],
   "source": [
    "spreedsheet = list(map(lambda line: list(map(int, line.split())), get_input(2).readlines()))\n",
    "\n",
    "print('Part One: ', day_2_1(spreedsheet))\n",
    "print('Part Two: ', day_2_2(spreedsheet))"
   ]
  },
  {
   "cell_type": "markdown",
   "metadata": {},
   "source": [
    "<center><h1><a href='https://adventofcode.com/2017/day/3'>Day 3: Spiral Memory</a></h1></center>"
   ]
  },
  {
   "cell_type": "code",
   "execution_count": 9,
   "metadata": {
    "collapsed": true
   },
   "outputs": [],
   "source": [
    "UP    = np.array([ 0,-1])\n",
    "DOWN  = np.array([ 0, 1])\n",
    "LEFT  = np.array([-1, 0])\n",
    "RIGHT = np.array([ 1, 0])\n",
    "UP_RIGHT   = np.array([ 1,-1])\n",
    "UP_LEFT    = np.array([-1,-1])\n",
    "DOWN_RIGHT = np.array([ 1, 1])\n",
    "DOWN_LEFT  = np.array([-1, 1])\n",
    "\n",
    "def neighbours(v, diagonal = True):\n",
    "    moves = [UP, DOWN, LEFT, RIGHT]\n",
    "    if diagonal:\n",
    "        moves += [UP_RIGHT, UP_LEFT, DOWN_RIGHT, DOWN_LEFT]\n",
    "    return [v + m for m in moves]"
   ]
  },
  {
   "cell_type": "markdown",
   "metadata": {},
   "source": [
    "### Part One:"
   ]
  },
  {
   "cell_type": "code",
   "execution_count": 10,
   "metadata": {
    "collapsed": true
   },
   "outputs": [],
   "source": [
    "def day_3_1(square_no):\n",
    "    size = math.floor(math.sqrt(square_no)) + 2\n",
    "    return abs((square_no - (size-2)**2) % (size-1) - size//2) + size//2"
   ]
  },
  {
   "cell_type": "markdown",
   "metadata": {},
   "source": [
    "### Part Two:"
   ]
  },
  {
   "cell_type": "code",
   "execution_count": 11,
   "metadata": {
    "collapsed": true
   },
   "outputs": [],
   "source": [
    "def day_3_2(square_no):\n",
    "    \n",
    "    def coords():\n",
    "        v = np.zeros(2, dtype=int)\n",
    "        s = 0\n",
    "        yield v\n",
    "        while(True):\n",
    "            for dv in [RIGHT, UP, LEFT, DOWN]:\n",
    "                if dv[1]: s += 1\n",
    "                for _ in range(s):\n",
    "                    v += dv\n",
    "                    yield v\n",
    "    \n",
    "    def values():\n",
    "        fields = defaultdict(int)\n",
    "        for v in coords():\n",
    "            fields[tuple(v)] = sum([fields[tuple(u)] for u in neighbours(v)]) or 1\n",
    "            yield fields[tuple(v)]\n",
    "            \n",
    "        \n",
    "    \n",
    "    return next(x for x in values() if x > square_no)"
   ]
  },
  {
   "cell_type": "markdown",
   "metadata": {},
   "source": [
    "### Results:"
   ]
  },
  {
   "cell_type": "code",
   "execution_count": 12,
   "metadata": {},
   "outputs": [
    {
     "name": "stdout",
     "output_type": "stream",
     "text": [
      "Part One:  419\n",
      "Part Two:  295229\n"
     ]
    }
   ],
   "source": [
    "square_no = int(get_input(3).readline().split()[0])\n",
    "\n",
    "print('Part One: ', day_3_1(square_no))\n",
    "print('Part Two: ', day_3_2(square_no))"
   ]
  },
  {
   "cell_type": "markdown",
   "metadata": {},
   "source": [
    "<center><h1><a href='https://adventofcode.com/2017/day/4'>Day 4: High-Entropy Passphrases</a></h1></center>"
   ]
  },
  {
   "cell_type": "markdown",
   "metadata": {},
   "source": [
    "### Part One:"
   ]
  },
  {
   "cell_type": "code",
   "execution_count": 13,
   "metadata": {
    "collapsed": true
   },
   "outputs": [],
   "source": [
    "def day_4_1(passphrases):\n",
    "    return sum([len(p) == len(set(p)) for p in passphrases])"
   ]
  },
  {
   "cell_type": "markdown",
   "metadata": {},
   "source": [
    "### Part Two:"
   ]
  },
  {
   "cell_type": "code",
   "execution_count": 14,
   "metadata": {
    "collapsed": true
   },
   "outputs": [],
   "source": [
    "def day_4_2(passphrases):    \n",
    "    return sum([not any(sorted(a) == sorted(b) for (a,b) in combinations(phrase, 2)) for phrase in passphrases])"
   ]
  },
  {
   "cell_type": "markdown",
   "metadata": {},
   "source": [
    "### Results:"
   ]
  },
  {
   "cell_type": "code",
   "execution_count": 15,
   "metadata": {
    "scrolled": true
   },
   "outputs": [
    {
     "name": "stdout",
     "output_type": "stream",
     "text": [
      "Part One:  477\n",
      "Part Two:  167\n"
     ]
    }
   ],
   "source": [
    "passphrases = list(map(methodcaller(\"split\"), get_input(4).readlines()))\n",
    "\n",
    "print('Part One: ', day_4_1(passphrases))\n",
    "print('Part Two: ', day_4_2(passphrases))"
   ]
  },
  {
   "cell_type": "markdown",
   "metadata": {},
   "source": [
    "<center><h1><a href='https://adventofcode.com/2017/day/5'>Day 5: A Maze of Twisty Trampolines, All Alike</a></h1></center>"
   ]
  },
  {
   "cell_type": "markdown",
   "metadata": {},
   "source": [
    "### Part One:"
   ]
  },
  {
   "cell_type": "code",
   "execution_count": 16,
   "metadata": {
    "collapsed": true
   },
   "outputs": [],
   "source": [
    "def day_5_1(offsets):\n",
    "    offsets = list(offsets)\n",
    "    s = i = 0\n",
    "    while(0 <= i < len(offsets)):\n",
    "        offsets[i] += 1\n",
    "        i += offsets[i] - 1\n",
    "        s += 1\n",
    "    return s;"
   ]
  },
  {
   "cell_type": "markdown",
   "metadata": {},
   "source": [
    "### Part Two:"
   ]
  },
  {
   "cell_type": "code",
   "execution_count": 17,
   "metadata": {
    "collapsed": true
   },
   "outputs": [],
   "source": [
    "def day_5_2(offsets):\n",
    "    offsets = list(offsets)\n",
    "    s = i = 0\n",
    "    while(0 <= i < len(offsets)):\n",
    "        offset = offsets[i]\n",
    "        offsets[i] += (-1 if offsets[i]>2 else 1)\n",
    "        i += offset\n",
    "        s += 1\n",
    "    return s;"
   ]
  },
  {
   "cell_type": "markdown",
   "metadata": {},
   "source": [
    "### Results:"
   ]
  },
  {
   "cell_type": "code",
   "execution_count": 18,
   "metadata": {
    "scrolled": false
   },
   "outputs": [
    {
     "name": "stdout",
     "output_type": "stream",
     "text": [
      "Part One:  359348\n",
      "Part Two:  27688760\n"
     ]
    }
   ],
   "source": [
    "offsets = list(map(int, get_input(5).readlines()))\n",
    "print('Part One: ', day_5_1(offsets))\n",
    "print('Part Two: ', day_5_2(offsets))"
   ]
  },
  {
   "cell_type": "markdown",
   "metadata": {},
   "source": [
    "<center><h1><a href='https://adventofcode.com/2017/day/6'>Day 6: Memory Reallocation</a></h1></center>"
   ]
  },
  {
   "cell_type": "markdown",
   "metadata": {},
   "source": [
    "### Part One:"
   ]
  },
  {
   "cell_type": "code",
   "execution_count": 19,
   "metadata": {
    "collapsed": true
   },
   "outputs": [],
   "source": [
    "def day_6_1(banks):\n",
    "    \n",
    "    def redistributions(banks):\n",
    "        banks = list(banks)\n",
    "        while True:\n",
    "            i = np.argmax(banks)\n",
    "            blocks = banks[i]\n",
    "            banks[i] = 0\n",
    "            while(blocks > 0):\n",
    "                i += 1\n",
    "                banks[(i)%len(banks)] += 1\n",
    "                blocks -= 1\n",
    "            yield tuple(banks)\n",
    "    \n",
    "    history = set(tuple(banks))\n",
    "    cycle = 0\n",
    "    for b in redistributions(banks):\n",
    "        cycle += 1\n",
    "        if b in history:\n",
    "            return cycle\n",
    "        history.add(b)"
   ]
  },
  {
   "cell_type": "markdown",
   "metadata": {},
   "source": [
    "### Part Two:"
   ]
  },
  {
   "cell_type": "code",
   "execution_count": 20,
   "metadata": {
    "collapsed": true
   },
   "outputs": [],
   "source": [
    "def day_6_2(banks):\n",
    "    \n",
    "    def redistributions(banks):\n",
    "        banks = list(banks)\n",
    "        while True:\n",
    "            i = np.argmax(banks)\n",
    "            blocks = banks[i]\n",
    "            banks[i] = 0\n",
    "            while(blocks > 0):\n",
    "                i += 1\n",
    "                banks[(i)%len(banks)] += 1\n",
    "                blocks -= 1\n",
    "            yield tuple(banks)\n",
    "    \n",
    "    cycle = 0\n",
    "    history = {tuple(banks): cycle}\n",
    "    for b in redistributions(banks):\n",
    "        cycle += 1\n",
    "        if b in history:\n",
    "            return cycle - history[b]\n",
    "        history[b] = cycle"
   ]
  },
  {
   "cell_type": "markdown",
   "metadata": {},
   "source": [
    "### Results:"
   ]
  },
  {
   "cell_type": "code",
   "execution_count": 21,
   "metadata": {
    "scrolled": true
   },
   "outputs": [
    {
     "name": "stdout",
     "output_type": "stream",
     "text": [
      "Part One:  3156\n",
      "Part Two:  1610\n"
     ]
    }
   ],
   "source": [
    "banks = list(map(int, get_input(6).readline().split()))\n",
    "\n",
    "print('Part One: ', day_6_1(banks))\n",
    "print('Part Two: ', day_6_2(banks))"
   ]
  },
  {
   "cell_type": "markdown",
   "metadata": {},
   "source": [
    "<center><h1><a href='https://adventofcode.com/2017/day/7'>Day 7: Recursive Circus</a></h1></center>"
   ]
  },
  {
   "cell_type": "code",
   "execution_count": 22,
   "metadata": {
    "collapsed": true
   },
   "outputs": [],
   "source": [
    "class Program:\n",
    "    \n",
    "    def __init__(self, name, weight, parent = None, children = []):\n",
    "        self.name = name\n",
    "        self.weight = weight\n",
    "        self.parent = parent\n",
    "        self.children = children\n",
    "    \n",
    "    def tower_weight(self):\n",
    "        return self.weight + sum(p.tower_weight() for p in self.children)\n",
    "    \n",
    "    @staticmethod\n",
    "    def parse(line):\n",
    "        line = line.replace(',', '').split()\n",
    "        return Program(line[0], int(line[1][1:-1]), None, line[3:])\n",
    "    \n",
    "    @staticmethod\n",
    "    def link_programs(programs):\n",
    "        programs = {p.name: p for p in programs}\n",
    "        for program in programs.values():\n",
    "            for i in range(len(program.children)):\n",
    "                program.children[i] = programs[program.children[i]]\n",
    "                program.children[i].parent = program\n",
    "        return next(p for p in programs.values() if p.parent == None)"
   ]
  },
  {
   "cell_type": "markdown",
   "metadata": {},
   "source": [
    "### Part One:"
   ]
  },
  {
   "cell_type": "code",
   "execution_count": 23,
   "metadata": {
    "collapsed": true
   },
   "outputs": [],
   "source": [
    "def day_7_1(root):\n",
    "    return root.name"
   ]
  },
  {
   "cell_type": "markdown",
   "metadata": {},
   "source": [
    "### Part Two:"
   ]
  },
  {
   "cell_type": "code",
   "execution_count": 24,
   "metadata": {
    "collapsed": true
   },
   "outputs": [],
   "source": [
    "def day_7_2(root):\n",
    "    \n",
    "    def argdistinct(data):\n",
    "        for i in range(len(data)):\n",
    "            if data[i] != data[(i+1)%len(data)] and data[(i+1)%len(data)] == data[(i+2)%len(data)]:\n",
    "                return i\n",
    "        return None\n",
    "    \n",
    "    def balance(program):\n",
    "        weights = [p.tower_weight() for p in program.children]\n",
    "        i = argdistinct(weights)\n",
    "        if i != None:\n",
    "            b = balance(program.children[i])\n",
    "            if b == 0:\n",
    "                return program.children[i].weight - (weights[i] - weights[(i+1)%len(weights)])\n",
    "            return b\n",
    "        return 0\n",
    "        \n",
    "    return balance(root)"
   ]
  },
  {
   "cell_type": "markdown",
   "metadata": {},
   "source": [
    "### Results:"
   ]
  },
  {
   "cell_type": "code",
   "execution_count": 25,
   "metadata": {
    "scrolled": false
   },
   "outputs": [
    {
     "name": "stdout",
     "output_type": "stream",
     "text": [
      "Part One:  xegshds\n",
      "Part Two:  299\n"
     ]
    }
   ],
   "source": [
    "root = Program.link_programs([Program.parse(l) for l in get_input(7).readlines()])\n",
    "\n",
    "print('Part One: ', day_7_1(root))\n",
    "print('Part Two: ', day_7_2(root))"
   ]
  },
  {
   "cell_type": "markdown",
   "metadata": {},
   "source": [
    "<center><h1><a href='https://adventofcode.com/2017/day/8'>Day 8: I Heard You Like Registers</a></h1></center>"
   ]
  },
  {
   "cell_type": "code",
   "execution_count": 26,
   "metadata": {
    "collapsed": true
   },
   "outputs": [],
   "source": [
    "OPERATORS = {\n",
    "    '>':  operator.gt,\n",
    "    '<':  operator.lt,\n",
    "    '>=': operator.ge,\n",
    "    '<=': operator.le,\n",
    "    '==': operator.eq,\n",
    "    '!=': operator.ne\n",
    "}"
   ]
  },
  {
   "cell_type": "code",
   "execution_count": 27,
   "metadata": {
    "collapsed": true
   },
   "outputs": [],
   "source": [
    "def Condition(register, operator, value):\n",
    "    return lambda registers: operator(registers[register], value)\n",
    "\n",
    "class Instruction(namedtuple('Instruction', ['register', 'change', 'condition'])):\n",
    "    \n",
    "    def execute(self, registers):\n",
    "        if self.condition(registers):\n",
    "            registers[self.register] += self.change\n",
    "    \n",
    "    @staticmethod\n",
    "    def parse(line):\n",
    "        line = line.split()\n",
    "        return Instruction(\n",
    "            line[0],\n",
    "            int(line[2]) if line[1] == 'inc' else -int(line[2]),\n",
    "            Condition(line[4], OPERATORS[line[5]], int(line[6]))\n",
    "        )"
   ]
  },
  {
   "cell_type": "markdown",
   "metadata": {},
   "source": [
    "### Part One:"
   ]
  },
  {
   "cell_type": "code",
   "execution_count": 28,
   "metadata": {
    "collapsed": true
   },
   "outputs": [],
   "source": [
    "def day_8_1(instructions):\n",
    "    registers = defaultdict(int)\n",
    "    for ins in instructions:\n",
    "        ins.execute(registers)\n",
    "    return max(registers.values())"
   ]
  },
  {
   "cell_type": "markdown",
   "metadata": {},
   "source": [
    "### Part Two:"
   ]
  },
  {
   "cell_type": "code",
   "execution_count": 29,
   "metadata": {
    "collapsed": true
   },
   "outputs": [],
   "source": [
    "def day_8_2(instructions):\n",
    "    registers = defaultdict(int)\n",
    "    ans = 0\n",
    "    for ins in instructions:\n",
    "        ins.execute(registers)\n",
    "        ans = max(ans, *registers.values())\n",
    "    return ans"
   ]
  },
  {
   "cell_type": "markdown",
   "metadata": {},
   "source": [
    "### Results:"
   ]
  },
  {
   "cell_type": "code",
   "execution_count": 30,
   "metadata": {
    "scrolled": false
   },
   "outputs": [
    {
     "name": "stdout",
     "output_type": "stream",
     "text": [
      "Part One:  3089\n",
      "Part Two:  5391\n"
     ]
    }
   ],
   "source": [
    "instructions = list(Instruction.parse(line) for line in get_input(8).readlines())\n",
    "\n",
    "print('Part One: ', day_8_1(instructions))\n",
    "print('Part Two: ', day_8_2(instructions))"
   ]
  },
  {
   "cell_type": "markdown",
   "metadata": {},
   "source": [
    "<center><h1><a href='https://adventofcode.com/2017/day/9'>Day 9: Stream Processing</a></h1></center>"
   ]
  },
  {
   "cell_type": "markdown",
   "metadata": {},
   "source": [
    "### Part One:"
   ]
  },
  {
   "cell_type": "code",
   "execution_count": 31,
   "metadata": {
    "collapsed": true
   },
   "outputs": [],
   "source": [
    "def day_9_1(file):\n",
    "    score = 0\n",
    "    indent = 1\n",
    "    garbage = False\n",
    "    ignore = False\n",
    "    \n",
    "    file.read(1)\n",
    "    \n",
    "    while True:\n",
    "        c = file.read(1)\n",
    "        \n",
    "        if ignore:\n",
    "            ignore = False\n",
    "            continue\n",
    "            \n",
    "        if c == '!':\n",
    "            ignore = True\n",
    "            continue\n",
    "        \n",
    "        if garbage:\n",
    "            if c == '>':\n",
    "                garbage = False\n",
    "            continue\n",
    "\n",
    "        if c == '{':\n",
    "            indent += 1\n",
    "        elif c == '}':\n",
    "            score += indent\n",
    "            indent -= 1\n",
    "        elif c == '<':\n",
    "            garbage = True\n",
    "\n",
    "        if indent == 0:\n",
    "            return score"
   ]
  },
  {
   "cell_type": "markdown",
   "metadata": {},
   "source": [
    "### Part Two:"
   ]
  },
  {
   "cell_type": "code",
   "execution_count": 32,
   "metadata": {
    "collapsed": true
   },
   "outputs": [],
   "source": [
    "def day_9_2(file):\n",
    "    score = 0\n",
    "    indent = 1\n",
    "    garbage = False\n",
    "    ignore = False\n",
    "    \n",
    "    file.read(1)\n",
    "    \n",
    "    while True:\n",
    "        c = file.read(1)\n",
    "        \n",
    "        if ignore:\n",
    "            ignore = False\n",
    "            continue\n",
    "            \n",
    "        if c == '!':\n",
    "            ignore = True\n",
    "            continue\n",
    "        \n",
    "        if garbage:\n",
    "            if c == '>':\n",
    "                garbage = False\n",
    "            else:\n",
    "                score += 1\n",
    "            continue\n",
    "\n",
    "        if c == '{':\n",
    "            indent += 1\n",
    "        elif c == '}':\n",
    "            indent -= 1\n",
    "        elif c == '<':\n",
    "            garbage = True\n",
    "\n",
    "        if indent == 0:\n",
    "            return score"
   ]
  },
  {
   "cell_type": "markdown",
   "metadata": {},
   "source": [
    "### Results:"
   ]
  },
  {
   "cell_type": "code",
   "execution_count": 33,
   "metadata": {
    "scrolled": false
   },
   "outputs": [
    {
     "name": "stdout",
     "output_type": "stream",
     "text": [
      "Part One:  12803\n",
      "Part Two:  6425\n"
     ]
    }
   ],
   "source": [
    "print('Part One: ', day_9_1(get_input(9)))\n",
    "print('Part Two: ', day_9_2(get_input(9)))"
   ]
  },
  {
   "cell_type": "markdown",
   "metadata": {},
   "source": [
    "<center><h1><a href='https://adventofcode.com/2017/day/10'>Day 10: Knot Hash</a></h1></center>"
   ]
  },
  {
   "cell_type": "code",
   "execution_count": 34,
   "metadata": {
    "collapsed": true
   },
   "outputs": [],
   "source": [
    "def circural_reverse(data, start, length):\n",
    "    data = data[start:] + data[:start]\n",
    "    data[:length] = reversed(data[:length])\n",
    "    data = data[-start:] + data[:-start]\n",
    "    return data\n",
    "\n",
    "def generate_spare_hash(lengths, rounds = 1, size = 256):\n",
    "    data = list(range(size))\n",
    "    index = 0\n",
    "    skip = 0\n",
    "    for _ in range(rounds):\n",
    "        for l in lengths:\n",
    "            data = circural_reverse(data, index, l)\n",
    "            index = (index + l + skip) % size\n",
    "            skip += 1\n",
    "    return data\n",
    "\n",
    "def generate_dense_hash(spare_hash, block = 16):\n",
    "    return [reduce(operator.xor, spare_hash[i:i+block], 0) for i in range(0, len(spare_hash), block)]\n",
    "\n",
    "def hash_as_hex(hash):\n",
    "    return \"\".join(['{:02x}'.format(n) for n in hash])\n",
    "\n",
    "def parse_lenghts(text):\n",
    "    return [ord(c) for c in text] + [17, 31, 73, 47, 23]\n",
    "\n",
    "def knot_hash(data, block = 16, rounds = 64, size = 256):\n",
    "    return hash_as_hex(generate_dense_hash(generate_spare_hash(parse_lenghts(data), rounds, size), block))"
   ]
  },
  {
   "cell_type": "code",
   "execution_count": 35,
   "metadata": {
    "collapsed": true
   },
   "outputs": [],
   "source": [
    "assert circural_reverse(list(range(4)), 0, 3)  == [2, 1, 0, 3]\n",
    "assert circural_reverse(list(range(5)), 0, 3)  == [2, 1, 0, 3, 4]\n",
    "assert circural_reverse(list(range(5)), 4, 3)  == [0, 4, 2, 3, 1]\n",
    "assert circural_reverse(list(range(5)), 3, 4)  == [4, 3, 2, 1, 0]\n",
    "\n",
    "assert parse_lenghts('1,2,3') == [49,44,50,44,51,17,31,73,47,23]\n",
    "\n",
    "assert generate_spare_hash([3, 4, 1, 5], rounds = 1, size = 5) == [3, 4, 2, 1, 0]\n",
    "\n",
    "assert generate_dense_hash([65, 27, 9, 1, 4, 3, 40, 50, 91,  7, 6, 0, 2, 5, 68, 22]) == [64]\n",
    "\n",
    "assert hash_as_hex([64, 7, 255]) == \"4007ff\"\n",
    "assert hash_as_hex([255, 0, 17]) == 'ff0011'\n",
    "\n",
    "assert knot_hash('') == 'a2582a3a0e66e6e86e3812dcb672a272'\n",
    "assert knot_hash('63,144,180,149,1,255,167,84,125,65,188,0,2,254,229,24') == 'c500ffe015c83b60fad2e4b7d59dabc4'\n",
    "assert knot_hash('AoC 2017') == '33efeb34ea91902bb2f59c9920caa6cd'\n",
    "assert knot_hash('1,2,3') == '3efbe78a8d82f29979031a4aa0b16a9d'\n",
    "assert knot_hash('1,2,4') == '63960835bcdc130f0b66d7ff4f6a5a8e'"
   ]
  },
  {
   "cell_type": "markdown",
   "metadata": {},
   "source": [
    "### Part One:"
   ]
  },
  {
   "cell_type": "code",
   "execution_count": 36,
   "metadata": {
    "collapsed": true
   },
   "outputs": [],
   "source": [
    "def day_10_1(lengths):\n",
    "    data = generate_spare_hash(lengths)\n",
    "    return data[0] * data[1]"
   ]
  },
  {
   "cell_type": "markdown",
   "metadata": {},
   "source": [
    "### Part Two:"
   ]
  },
  {
   "cell_type": "code",
   "execution_count": 37,
   "metadata": {
    "collapsed": true
   },
   "outputs": [],
   "source": [
    "def day_10_2(text):\n",
    "    return knot_hash(text)"
   ]
  },
  {
   "cell_type": "markdown",
   "metadata": {},
   "source": [
    "### Results:"
   ]
  },
  {
   "cell_type": "code",
   "execution_count": 38,
   "metadata": {
    "scrolled": false
   },
   "outputs": [
    {
     "name": "stdout",
     "output_type": "stream",
     "text": [
      "Part One:  1980\n",
      "Part Two:  899124dac21012ebc32e2f4d11eaec55\n"
     ]
    }
   ],
   "source": [
    "lengths = list(map(int, get_input(10).readline().split(',')))\n",
    "\n",
    "print('Part One: ', day_10_1(lengths))\n",
    "print('Part Two: ', day_10_2(get_input(10).readline().strip()))"
   ]
  },
  {
   "cell_type": "markdown",
   "metadata": {},
   "source": [
    "<center><h1><a href='https://adventofcode.com/2017/day/11'>Day 11: Hex Ed</a></h1></center>"
   ]
  },
  {
   "cell_type": "code",
   "execution_count": 39,
   "metadata": {
    "collapsed": true
   },
   "outputs": [],
   "source": [
    "HEX_MOVES = {\n",
    "    'n':  np.array([ 0,-1,-1]),\n",
    "    'ne': np.array([ 1, 0,-1]),\n",
    "    'se': np.array([ 1, 1, 0]),\n",
    "    's':  np.array([ 0, 1, 1]),\n",
    "    'sw': np.array([-1, 0, 1]),\n",
    "    'nw': np.array([-1,-1, 0])\n",
    "}       "
   ]
  },
  {
   "cell_type": "markdown",
   "metadata": {},
   "source": [
    "### Part One:"
   ]
  },
  {
   "cell_type": "code",
   "execution_count": 40,
   "metadata": {
    "collapsed": true
   },
   "outputs": [],
   "source": [
    "def day_11_1(moves):\n",
    "    return np.amax(np.abs(np.sum(moves, axis=0)))"
   ]
  },
  {
   "cell_type": "markdown",
   "metadata": {},
   "source": [
    "### Part Two:"
   ]
  },
  {
   "cell_type": "code",
   "execution_count": 41,
   "metadata": {
    "collapsed": true
   },
   "outputs": [],
   "source": [
    "def day_11_2(moves):\n",
    "    pos = np.array([0,0,0])\n",
    "    dist = 0\n",
    "    for m in moves:\n",
    "        pos += m\n",
    "        dist = max(dist, np.amax(np.abs(pos)))\n",
    "    return dist"
   ]
  },
  {
   "cell_type": "markdown",
   "metadata": {},
   "source": [
    "### Results:"
   ]
  },
  {
   "cell_type": "code",
   "execution_count": 42,
   "metadata": {
    "scrolled": false
   },
   "outputs": [
    {
     "name": "stdout",
     "output_type": "stream",
     "text": [
      "Part One:  685\n",
      "Part Two:  1457\n"
     ]
    }
   ],
   "source": [
    "moves = [HEX_MOVES[m] for m in get_input(11).readline().strip().split(\",\")]\n",
    "#moves = [HEX_MOVES[m] for m in ['se','sw','se','sw','sw']]\n",
    "\n",
    "print('Part One: ', day_11_1(moves))\n",
    "print('Part Two: ', day_11_2(moves))"
   ]
  },
  {
   "cell_type": "markdown",
   "metadata": {},
   "source": [
    "<center><h1><a href='https://adventofcode.com/2017/day/12'>Day 12: Digital Plumber</a></h1></center>"
   ]
  },
  {
   "cell_type": "code",
   "execution_count": 43,
   "metadata": {
    "collapsed": true
   },
   "outputs": [],
   "source": [
    "class Node:\n",
    "    \n",
    "    def __init__(self, id):\n",
    "        self.id = id\n",
    "        self.connections = []\n",
    "        self.visited = False\n",
    "    \n",
    "    def dfs(self):\n",
    "        if self.visited:\n",
    "            return 0\n",
    "        \n",
    "        self.visited = True\n",
    "        \n",
    "        return 1 + sum([n.dfs() for n in self.connections])\n",
    "    \n",
    "    def __str__(self):\n",
    "        return \"{} {}\".format(self.id, str(self.connections))\n",
    "    \n",
    "    @staticmethod\n",
    "    def parse(line):\n",
    "        line = line.replace(',', '').split()\n",
    "        n = Node(int(line[0]))\n",
    "        for i in range(2, len(line)):\n",
    "            n.connections.append(int(line[i]))\n",
    "        return n\n",
    "    \n",
    "    @staticmethod\n",
    "    def connect_nodes(nodes):\n",
    "        for n in nodes:\n",
    "            for i in range(len(n.connections)):\n",
    "                n.connections[i] = nodes[n.connections[i]]\n",
    "        return nodes\n",
    "    \n",
    "    @staticmethod\n",
    "    def set_visited(nodes, visited):\n",
    "        for n in nodes:\n",
    "            n.visited = visited"
   ]
  },
  {
   "cell_type": "markdown",
   "metadata": {},
   "source": [
    "### Part One:"
   ]
  },
  {
   "cell_type": "code",
   "execution_count": 44,
   "metadata": {
    "collapsed": true
   },
   "outputs": [],
   "source": [
    "def day_12_1(nodes):\n",
    "    Node.set_visited(nodes, False)\n",
    "    return nodes[0].dfs()"
   ]
  },
  {
   "cell_type": "markdown",
   "metadata": {},
   "source": [
    "### Part Two:"
   ]
  },
  {
   "cell_type": "code",
   "execution_count": 45,
   "metadata": {
    "collapsed": true
   },
   "outputs": [],
   "source": [
    "def day_12_2(nodes):\n",
    "    Node.set_visited(nodes, False)\n",
    "    return len([n.dfs() for n in nodes if not n.visited])"
   ]
  },
  {
   "cell_type": "markdown",
   "metadata": {},
   "source": [
    "### Results:"
   ]
  },
  {
   "cell_type": "code",
   "execution_count": 46,
   "metadata": {},
   "outputs": [
    {
     "name": "stdout",
     "output_type": "stream",
     "text": [
      "Part One:  113\n",
      "Part Two:  202\n"
     ]
    }
   ],
   "source": [
    "nodes = Node.connect_nodes([Node.parse(line) for line in get_input(12).readlines()])\n",
    "\n",
    "print('Part One: ', day_12_1(nodes))\n",
    "print('Part Two: ', day_12_2(nodes))"
   ]
  },
  {
   "cell_type": "markdown",
   "metadata": {},
   "source": [
    "<center><h1><a href='https://adventofcode.com/2017/day/13'>Day 13: Packet Scanners</a></h1></center>"
   ]
  },
  {
   "cell_type": "code",
   "execution_count": 47,
   "metadata": {
    "collapsed": true
   },
   "outputs": [],
   "source": [
    "def scanner_position(size, time):\n",
    "    if (size < 2):\n",
    "        return 0\n",
    "    if (time // (size - 1)) % 2 == 0:\n",
    "        return time % (size - 1)\n",
    "    else:\n",
    "        return size - (time % (size - 1)) - 1\n",
    "    \n",
    "def severity(layers, delay = 0):\n",
    "    ans = 0\n",
    "    for i in range(0, max(layers)+1):\n",
    "        if layers[i] > 0 and scanner_position(layers[i], delay + i) == 0:\n",
    "            ans += i * layers[i]\n",
    "    return ans"
   ]
  },
  {
   "cell_type": "markdown",
   "metadata": {},
   "source": [
    "### Part One:"
   ]
  },
  {
   "cell_type": "code",
   "execution_count": 48,
   "metadata": {
    "collapsed": true
   },
   "outputs": [],
   "source": [
    "def day_13_1(layers):\n",
    "    return severity(layers)"
   ]
  },
  {
   "cell_type": "markdown",
   "metadata": {},
   "source": [
    "### Part Two:"
   ]
  },
  {
   "cell_type": "code",
   "execution_count": 49,
   "metadata": {
    "collapsed": true
   },
   "outputs": [],
   "source": [
    "def day_13_2(layers):\n",
    "    for delay in count():\n",
    "        if severity(layers, delay) == 0 and scanner_position(layers[0], delay) != 0:\n",
    "            return delay"
   ]
  },
  {
   "cell_type": "markdown",
   "metadata": {},
   "source": [
    "### Results:"
   ]
  },
  {
   "cell_type": "code",
   "execution_count": 50,
   "metadata": {},
   "outputs": [
    {
     "name": "stdout",
     "output_type": "stream",
     "text": [
      "Part One:  1728\n",
      "Part Two:  3946838\n"
     ]
    }
   ],
   "source": [
    "layers = defaultdict(int, {int(l[0]): int(l[1]) for l in map(lambda line: line.replace(':','').split(), get_input(13).readlines())})\n",
    "\n",
    "print('Part One: ', day_13_1(layers))\n",
    "print('Part Two: ', day_13_2(layers))"
   ]
  },
  {
   "cell_type": "markdown",
   "metadata": {},
   "source": [
    "<center><h1><a href='https://adventofcode.com/2017/day/14'>Day 14: Disk Defragmentation</a></h1></center>"
   ]
  },
  {
   "cell_type": "code",
   "execution_count": 51,
   "metadata": {
    "collapsed": true
   },
   "outputs": [],
   "source": [
    "def hex_to_binary(text):\n",
    "    return \"\".join([bin(int(c, 16))[2:].zfill(4) for c in text])\n",
    "\n",
    "def count_chars(text, char):\n",
    "    return len([c for c in text if c == char])\n",
    "\n",
    "def is_in_range(v, a, b):\n",
    "    return a <= v and v < b\n",
    "\n",
    "def clear_memory(memory, v):\n",
    "    if not is_in_range(v[0], 0, 128) or not is_in_range(v[1], 0, 128) or memory[v[0]][v[1]] == '0':\n",
    "        return\n",
    "    memory[v[0]][v[1]] = '0'\n",
    "    for n in neighbours(v, False):\n",
    "        clear_memory(memory, n)\n",
    "        "
   ]
  },
  {
   "cell_type": "code",
   "execution_count": 52,
   "metadata": {
    "collapsed": true
   },
   "outputs": [],
   "source": [
    "assert hex_to_binary('f') == '1111'\n",
    "assert hex_to_binary('1a') == '00011010'\n",
    "assert hex_to_binary('00') == '00000000'\n",
    "assert hex_to_binary('a0c2017') == '1010000011000010000000010111'\n",
    "\n",
    "assert count_chars('11010', '1') == 3"
   ]
  },
  {
   "cell_type": "markdown",
   "metadata": {},
   "source": [
    "### Part One:"
   ]
  },
  {
   "cell_type": "code",
   "execution_count": 53,
   "metadata": {
    "collapsed": true
   },
   "outputs": [],
   "source": [
    "def day_14_1(key):\n",
    "    return sum(count_chars(hex_to_binary(knot_hash(key+'-'+str(i))), '1') for i in range(128))"
   ]
  },
  {
   "cell_type": "markdown",
   "metadata": {},
   "source": [
    "### Part Two:"
   ]
  },
  {
   "cell_type": "code",
   "execution_count": 54,
   "metadata": {
    "collapsed": true
   },
   "outputs": [],
   "source": [
    "def day_14_2(key):\n",
    "    memory = [list(hex_to_binary(knot_hash(key+'-'+str(i)))) for i in range(128)]\n",
    "    ans = 0\n",
    "    for i in range(128):\n",
    "        for j in range(128):\n",
    "            if memory[i][j] == '1':\n",
    "                clear_memory(memory, np.array([i,j]))\n",
    "                ans += 1\n",
    "    return ans"
   ]
  },
  {
   "cell_type": "markdown",
   "metadata": {},
   "source": [
    "### Results:"
   ]
  },
  {
   "cell_type": "code",
   "execution_count": 55,
   "metadata": {
    "scrolled": true
   },
   "outputs": [
    {
     "name": "stdout",
     "output_type": "stream",
     "text": [
      "Part One:  8226\n",
      "Part Two:  1128\n"
     ]
    }
   ],
   "source": [
    "key = get_input(14).readline().strip()\n",
    "\n",
    "print('Part One: ', day_14_1(key))\n",
    "print('Part Two: ', day_14_2(key))"
   ]
  },
  {
   "cell_type": "markdown",
   "metadata": {},
   "source": [
    "<center><h1><a href='https://adventofcode.com/2017/day/15'>Day 15: Dueling Generators</a></h1></center>"
   ]
  },
  {
   "cell_type": "code",
   "execution_count": 56,
   "metadata": {
    "collapsed": true
   },
   "outputs": [],
   "source": [
    "def generator(previous, factor, divider = 2147483647):\n",
    "    while True:\n",
    "        previous = (previous * factor) % divider\n",
    "        yield previous\n",
    "\n",
    "def generatorA(start): return generator(start, 16807)\n",
    "def generatorB(start): return generator(start, 48271)\n",
    "\n",
    "def judge(generator1, generator2, tests, bits = 16):\n",
    "    d = 1 << bits\n",
    "    return sum(a%d == b%d for (_, a, b) in zip(range(tests), generator1, generator2))\n",
    "\n",
    "def criteria(generator, value):\n",
    "    return (n for n in generator if n%value == 0)"
   ]
  },
  {
   "cell_type": "code",
   "execution_count": 57,
   "metadata": {},
   "outputs": [],
   "source": [
    "assert list(islice(generatorA(65), 5)) == [1092455, 1181022009, 245556042, 1744312007, 1352636452]\n",
    "assert list(islice(generatorB(8921), 5)) == [430625591, 1233683848, 1431495498, 137874439, 285222916]\n",
    "\n",
    "assert judge(generatorA(65), generatorB(8921), 5) == 1\n",
    "assert judge(generatorA(65), generatorB(8921), 40*10**6) == 588\n",
    "\n",
    "assert list(islice(criteria(generatorA(65), 4), 5)) == [1352636452, 1992081072, 530830436, 1980017072, 740335192]\n",
    "assert list(islice(criteria(generatorB(8921), 8), 5)) == [1233683848, 862516352, 1159784568, 1616057672, 412269392]\n",
    "\n",
    "assert judge(criteria(generatorA(65), 4), criteria(generatorB(8921), 8), 1055) == 0\n",
    "assert judge(criteria(generatorA(65), 4), criteria(generatorB(8921), 8), 1056) == 1\n",
    "assert judge(criteria(generatorA(65), 4), criteria(generatorB(8921), 8), 5*10**6) == 309"
   ]
  },
  {
   "cell_type": "markdown",
   "metadata": {},
   "source": [
    "### Part One:"
   ]
  },
  {
   "cell_type": "code",
   "execution_count": 58,
   "metadata": {
    "collapsed": true
   },
   "outputs": [],
   "source": [
    "def day_15_1(startA, startB):\n",
    "    return judge(generatorA(startA), generatorB(startB), 40*10**6)"
   ]
  },
  {
   "cell_type": "markdown",
   "metadata": {},
   "source": [
    "### Part Two:"
   ]
  },
  {
   "cell_type": "code",
   "execution_count": 59,
   "metadata": {},
   "outputs": [],
   "source": [
    "def day_15_2(startA, startB):\n",
    "    return judge(criteria(generatorA(startA), 4), criteria(generatorB(startB), 8), 5*10**6)"
   ]
  },
  {
   "cell_type": "markdown",
   "metadata": {},
   "source": [
    "### Results:"
   ]
  },
  {
   "cell_type": "code",
   "execution_count": 60,
   "metadata": {
    "scrolled": true
   },
   "outputs": [
    {
     "name": "stdout",
     "output_type": "stream",
     "text": [
      "Part One:  600\n",
      "Part Two:  313\n"
     ]
    }
   ],
   "source": [
    "[startA, startB] = [int(l.split()[4]) for l in get_input(15).readlines()]\n",
    "\n",
    "print('Part One: ', day_15_1(startA, startB))\n",
    "print('Part Two: ', day_15_2(startA, startB))"
   ]
  },
  {
   "cell_type": "markdown",
   "metadata": {},
   "source": [
    "---"
   ]
  },
  {
   "cell_type": "markdown",
   "metadata": {},
   "source": [
    "<center><h1><a href='https://adventofcode.com/2017/day/'></a></h1></center>"
   ]
  },
  {
   "cell_type": "markdown",
   "metadata": {},
   "source": [
    "### Part One:"
   ]
  },
  {
   "cell_type": "code",
   "execution_count": 61,
   "metadata": {
    "collapsed": true
   },
   "outputs": [],
   "source": [
    "def day__1():\n",
    "    pass"
   ]
  },
  {
   "cell_type": "markdown",
   "metadata": {},
   "source": [
    "### Part Two:"
   ]
  },
  {
   "cell_type": "code",
   "execution_count": 62,
   "metadata": {
    "collapsed": true
   },
   "outputs": [],
   "source": [
    "def day__2():\n",
    "    pass"
   ]
  },
  {
   "cell_type": "markdown",
   "metadata": {},
   "source": [
    "### Results:"
   ]
  },
  {
   "cell_type": "code",
   "execution_count": 63,
   "metadata": {
    "scrolled": true
   },
   "outputs": [
    {
     "name": "stdout",
     "output_type": "stream",
     "text": [
      "Part One:  None\n",
      "Part Two:  None\n"
     ]
    }
   ],
   "source": [
    "\n",
    "print('Part One: ', day__1())\n",
    "print('Part Two: ', day__2())"
   ]
  }
 ],
 "metadata": {
  "kernelspec": {
   "display_name": "Python 3",
   "language": "python",
   "name": "python3"
  },
  "language_info": {
   "codemirror_mode": {
    "name": "ipython",
    "version": 3
   },
   "file_extension": ".py",
   "mimetype": "text/x-python",
   "name": "python",
   "nbconvert_exporter": "python",
   "pygments_lexer": "ipython3",
   "version": "3.6.3"
  }
 },
 "nbformat": 4,
 "nbformat_minor": 2
}
