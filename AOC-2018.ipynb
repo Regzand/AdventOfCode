{
 "cells": [
  {
   "cell_type": "code",
   "execution_count": 115,
   "metadata": {},
   "outputs": [],
   "source": [
    "import numpy as np\n",
    "import re\n",
    "from itertools import combinations\n",
    "from collections import Counter, defaultdict"
   ]
  },
  {
   "cell_type": "code",
   "execution_count": 4,
   "metadata": {},
   "outputs": [],
   "source": [
    "def get_input(day, year = 2018, type = 'in'):\n",
    "    return open(\"data/{}/{}.{}\".format(year, day, type))"
   ]
  },
  {
   "cell_type": "markdown",
   "metadata": {},
   "source": [
    "# <a href='https://adventofcode.com/2018/day/1'>Day 1: Chronal Calibration</a>"
   ]
  },
  {
   "cell_type": "markdown",
   "metadata": {},
   "source": [
    "### Part One:"
   ]
  },
  {
   "cell_type": "code",
   "execution_count": 13,
   "metadata": {},
   "outputs": [],
   "source": [
    "def day_1_1(numbers):\n",
    "    return sum(numbers)"
   ]
  },
  {
   "cell_type": "markdown",
   "metadata": {},
   "source": [
    "### Part Two:"
   ]
  },
  {
   "cell_type": "code",
   "execution_count": 31,
   "metadata": {},
   "outputs": [],
   "source": [
    "def day_1_2(numbers):\n",
    "    frequency = 0\n",
    "    history = {0}\n",
    "    while True:\n",
    "        for n in numbers:\n",
    "            frequency += n\n",
    "            if frequency in history:\n",
    "                return frequency\n",
    "            history.add(frequency)"
   ]
  },
  {
   "cell_type": "markdown",
   "metadata": {},
   "source": [
    "### Results"
   ]
  },
  {
   "cell_type": "code",
   "execution_count": 32,
   "metadata": {},
   "outputs": [
    {
     "name": "stdout",
     "output_type": "stream",
     "text": [
      "Part One:  433\n",
      "Part Two:  256\n"
     ]
    }
   ],
   "source": [
    "numbers = list(map(int, get_input(1).readlines()))\n",
    "\n",
    "print(\"Part One: \", day_1_1(numbers))\n",
    "print(\"Part Two: \", day_1_2(numbers))"
   ]
  },
  {
   "cell_type": "markdown",
   "metadata": {},
   "source": [
    "# <a href='https://adventofcode.com/2018/day/2'>Day 2: Inventory Management System</a>"
   ]
  },
  {
   "cell_type": "markdown",
   "metadata": {},
   "source": [
    "### Part One:"
   ]
  },
  {
   "cell_type": "code",
   "execution_count": 129,
   "metadata": {},
   "outputs": [],
   "source": [
    "def day_2_1(ids):\n",
    "    counters = [Counter(id) for id in ids]\n",
    "    n2 = sum(2 in c.values() for c in counters)\n",
    "    n3 = sum(3 in c.values() for c in counters)\n",
    "    return n2 * n3"
   ]
  },
  {
   "cell_type": "markdown",
   "metadata": {},
   "source": [
    "### Part Two:"
   ]
  },
  {
   "cell_type": "code",
   "execution_count": 130,
   "metadata": {},
   "outputs": [],
   "source": [
    "def day_2_2(ids):\n",
    "    for id1,id2 in combinations(ids, 2):\n",
    "        if sum(a != b for a,b in zip(id1, id2)) == 1:\n",
    "            return \"\".join([a for a,b in zip(id1, id2) if a == b])"
   ]
  },
  {
   "cell_type": "markdown",
   "metadata": {},
   "source": [
    "### Results"
   ]
  },
  {
   "cell_type": "code",
   "execution_count": 131,
   "metadata": {},
   "outputs": [
    {
     "name": "stdout",
     "output_type": "stream",
     "text": [
      "Part One:  7657\n",
      "Part Two:  ivjhcadokeltwgsfsmqwrbnuy\n"
     ]
    }
   ],
   "source": [
    "ids = list(map(str.strip, get_input(2).readlines()))\n",
    "\n",
    "print(\"Part One: \", day_2_1(ids))\n",
    "print(\"Part Two: \", day_2_2(ids))"
   ]
  },
  {
   "cell_type": "markdown",
   "metadata": {},
   "source": [
    "# <a href='https://adventofcode.com/2018/day/3'>Day 3: No Matter How You Slice It</a>"
   ]
  },
  {
   "cell_type": "code",
   "execution_count": 160,
   "metadata": {},
   "outputs": [],
   "source": [
    "def mapout_claims(claims):\n",
    "    fields = defaultdict(int)\n",
    "    for i,x,y,w,h in claims:\n",
    "        for dx in range(w):\n",
    "            for dy in range(h):\n",
    "                fields[(x+dx, y+dy)] += 1\n",
    "    return fields"
   ]
  },
  {
   "cell_type": "markdown",
   "metadata": {},
   "source": [
    "### Part One:"
   ]
  },
  {
   "cell_type": "code",
   "execution_count": 161,
   "metadata": {},
   "outputs": [],
   "source": [
    "def day_3_1(claims):\n",
    "    return sum(i > 1 for i in mapout_claims(claims).values())"
   ]
  },
  {
   "cell_type": "markdown",
   "metadata": {},
   "source": [
    "### Part Two:"
   ]
  },
  {
   "cell_type": "code",
   "execution_count": 162,
   "metadata": {},
   "outputs": [],
   "source": [
    "def day_3_2(claims):\n",
    "    fields = mapout_claims(claims)\n",
    "    for i,x,y,w,h in claims:\n",
    "        if all(fields[(x+dx, y+dy)]==1 for dx in range(w) for dy in range(h)):\n",
    "            return i"
   ]
  },
  {
   "cell_type": "markdown",
   "metadata": {},
   "source": [
    "### Results"
   ]
  },
  {
   "cell_type": "code",
   "execution_count": 163,
   "metadata": {},
   "outputs": [
    {
     "name": "stdout",
     "output_type": "stream",
     "text": [
      "Part One:  121163\n",
      "Part Two:  943\n"
     ]
    }
   ],
   "source": [
    "reg = re.compile(\"[ #@,:x\\n]+\")\n",
    "claims = [tuple(map(int, reg.split(c)[1:-1])) for c in get_input(3).readlines()]\n",
    "\n",
    "print(\"Part One: \", day_3_1(claims))\n",
    "print(\"Part Two: \", day_3_2(claims))"
   ]
  }
 ],
 "metadata": {
  "kernelspec": {
   "display_name": "Python 3",
   "language": "python",
   "name": "python3"
  },
  "language_info": {
   "codemirror_mode": {
    "name": "ipython",
    "version": 3
   },
   "file_extension": ".py",
   "mimetype": "text/x-python",
   "name": "python",
   "nbconvert_exporter": "python",
   "pygments_lexer": "ipython3",
   "version": "3.6.5"
  }
 },
 "nbformat": 4,
 "nbformat_minor": 2
}
